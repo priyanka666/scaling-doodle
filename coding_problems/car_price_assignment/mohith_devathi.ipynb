{
 "cells": [
  {
   "cell_type": "code",
   "execution_count": 210,
   "metadata": {},
   "outputs": [],
   "source": [
    "import pandas as pd\n",
    "from sklearn.preprocessing import LabelEncoder, OneHotEncoder"
   ]
  },
  {
   "cell_type": "code",
   "execution_count": 211,
   "metadata": {},
   "outputs": [],
   "source": [
    "# Data curation \n",
    "# having found out spelling mistakes in the data. fixing them to make data ready for the model.\n",
    "# Id: 127,  Car name porcshce panamera fixed to porsche panamera\n",
    "# Id: 182,  Car name toyouta tercel fixed to toyota tercel\n",
    "# Id: 192 , Car name vokswagen rabbit  fixed to volkswagen rabbit"
   ]
  },
  {
   "cell_type": "code",
   "execution_count": 212,
   "metadata": {},
   "outputs": [],
   "source": [
    "car_data = pd.read_csv('/Users/mdevathi.sc/Downloads/CarPrice_Assignment.csv')"
   ]
  },
  {
   "cell_type": "code",
   "execution_count": 213,
   "metadata": {},
   "outputs": [],
   "source": [
    "# Spliting Car brand and Car model from CarName"
   ]
  },
  {
   "cell_type": "code",
   "execution_count": 214,
   "metadata": {},
   "outputs": [],
   "source": [
    "new = car_data[\"CarName\"].str.split(\" \", n = 1, expand = True) \n",
    "car_data['brand'] = new[0]\n",
    "car_data['car_model'] = new[1]\n",
    "car_data.drop(columns =[\"CarName\"], inplace = True) "
   ]
  },
  {
   "cell_type": "code",
   "execution_count": 215,
   "metadata": {},
   "outputs": [],
   "source": [
    "# Column enginelocation is to be removed as variance across the column is zero, hence it doesnt effect output price"
   ]
  },
  {
   "cell_type": "code",
   "execution_count": 216,
   "metadata": {},
   "outputs": [],
   "source": [
    "# Column Car_model can also be removed since model_name doesnt actually effect price of a car"
   ]
  },
  {
   "cell_type": "code",
   "execution_count": 217,
   "metadata": {},
   "outputs": [],
   "source": [
    "car_data.drop(columns =[\"car_model\"], inplace = True)"
   ]
  },
  {
   "cell_type": "code",
   "execution_count": 218,
   "metadata": {},
   "outputs": [],
   "source": [
    "car_data.drop(columns =[\"enginelocation\"], inplace = True)"
   ]
  },
  {
   "cell_type": "code",
   "execution_count": 219,
   "metadata": {},
   "outputs": [],
   "source": [
    "# car_data.to_csv('/Users/mdevathi.sc/Downloads/CarPrice_Assignment_staging.csv')"
   ]
  },
  {
   "cell_type": "code",
   "execution_count": 220,
   "metadata": {},
   "outputs": [],
   "source": [
    "cat_cols_df = car_data.select_dtypes('object').columns"
   ]
  },
  {
   "cell_type": "code",
   "execution_count": 221,
   "metadata": {},
   "outputs": [],
   "source": [
    "for col in cat_cols_df:\n",
    "    le = LabelEncoder()\n",
    "    daaata = le.fit_transform(car_data[col])\n",
    "\n",
    "    ohe = OneHotEncoder()\n",
    "    ohe_dda = ohe.fit_transform(daaata.reshape(-1,1))\n",
    "    dept_df = pd.DataFrame(ohe_dda.toarray(), dtype=int,columns=le.classes_)\n",
    "    car_data = pd.concat([car_data, dept_df], axis=1)\n",
    "    car_data = car_data.drop(col, axis=1)"
   ]
  },
  {
   "cell_type": "code",
   "execution_count": 222,
   "metadata": {},
   "outputs": [
    {
     "data": {
      "text/plain": [
       "Index([u'car_ID', u'symboling', u'wheelbase', u'carlength', u'carwidth',\n",
       "       u'carheight', u'curbweight', u'enginesize', u'boreratio', u'stroke',\n",
       "       u'compressionratio', u'horsepower', u'peakrpm', u'citympg',\n",
       "       u'highwaympg', u'price', u'diesel', u'gas', u'std', u'turbo', u'four',\n",
       "       u'two', u'convertible', u'hardtop', u'hatchback', u'sedan', u'wagon',\n",
       "       u'4wd', u'fwd', u'rwd', u'dohc', u'dohcv', u'l', u'ohc', u'ohcf',\n",
       "       u'ohcv', u'rotor', u'eight', u'five', u'four', u'six', u'three',\n",
       "       u'twelve', u'two', u'1bbl', u'2bbl', u'4bbl', u'idi', u'mfi', u'mpfi',\n",
       "       u'spdi', u'spfi', u'Nissan', u'alfa-romero', u'audi', u'bmw', u'buick',\n",
       "       u'chevrolet', u'dodge', u'honda', u'isuzu', u'jaguar', u'maxda',\n",
       "       u'mazda', u'mercury', u'mitsubishi', u'nissan', u'peugeot', u'plymouth',\n",
       "       u'porsche', u'renault', u'saab', u'subaru', u'toyota', u'toyouta',\n",
       "       u'volkswagen', u'volvo', u'vw'],\n",
       "      dtype='object')"
      ]
     },
     "execution_count": 222,
     "metadata": {},
     "output_type": "execute_result"
    }
   ],
   "source": [
    "car_data.columns"
   ]
  },
  {
   "cell_type": "code",
   "execution_count": 223,
   "metadata": {},
   "outputs": [],
   "source": [
    "target_data = car_data['price']\n",
    "feature_data = car_data.drop('price', axis=1)"
   ]
  },
  {
   "cell_type": "code",
   "execution_count": 224,
   "metadata": {},
   "outputs": [],
   "source": [
    "from sklearn.model_selection import train_test_split"
   ]
  },
  {
   "cell_type": "code",
   "execution_count": 225,
   "metadata": {},
   "outputs": [],
   "source": [
    "trainX,testX, trainY,testY = train_test_split(feature_data, target_data)"
   ]
  },
  {
   "cell_type": "code",
   "execution_count": 226,
   "metadata": {},
   "outputs": [
    {
     "data": {
      "text/plain": [
       "(153, 77)"
      ]
     },
     "execution_count": 226,
     "metadata": {},
     "output_type": "execute_result"
    }
   ],
   "source": [
    "trainX.shape"
   ]
  },
  {
   "cell_type": "code",
   "execution_count": 227,
   "metadata": {},
   "outputs": [
    {
     "data": {
      "text/plain": [
       "(52, 77)"
      ]
     },
     "execution_count": 227,
     "metadata": {},
     "output_type": "execute_result"
    }
   ],
   "source": [
    "testX.shape"
   ]
  },
  {
   "cell_type": "code",
   "execution_count": 228,
   "metadata": {},
   "outputs": [],
   "source": [
    "from sklearn.linear_model import LinearRegression"
   ]
  },
  {
   "cell_type": "code",
   "execution_count": 229,
   "metadata": {},
   "outputs": [],
   "source": [
    "lr = LinearRegression()"
   ]
  },
  {
   "cell_type": "code",
   "execution_count": 230,
   "metadata": {},
   "outputs": [
    {
     "data": {
      "text/plain": [
       "LinearRegression(copy_X=True, fit_intercept=True, n_jobs=None,\n",
       "         normalize=False)"
      ]
     },
     "execution_count": 230,
     "metadata": {},
     "output_type": "execute_result"
    }
   ],
   "source": [
    "lr.fit(trainX,trainY)"
   ]
  },
  {
   "cell_type": "code",
   "execution_count": 231,
   "metadata": {},
   "outputs": [],
   "source": [
    "y_pred = lr.predict(testX)"
   ]
  },
  {
   "cell_type": "code",
   "execution_count": 232,
   "metadata": {},
   "outputs": [],
   "source": [
    "from sklearn.metrics import r2_score"
   ]
  },
  {
   "cell_type": "code",
   "execution_count": 233,
   "metadata": {},
   "outputs": [
    {
     "data": {
      "text/plain": [
       "0.8479051055128"
      ]
     },
     "execution_count": 233,
     "metadata": {},
     "output_type": "execute_result"
    }
   ],
   "source": [
    "r2_score(testY, y_pred)"
   ]
  }
 ],
 "metadata": {
  "kernelspec": {
   "display_name": "Python 2",
   "language": "python",
   "name": "python2"
  },
  "language_info": {
   "codemirror_mode": {
    "name": "ipython",
    "version": 2
   },
   "file_extension": ".py",
   "mimetype": "text/x-python",
   "name": "python",
   "nbconvert_exporter": "python",
   "pygments_lexer": "ipython2",
   "version": "2.7.15"
  }
 },
 "nbformat": 4,
 "nbformat_minor": 2
}
